{
 "cells": [
  {
   "cell_type": "code",
   "execution_count": 2,
   "metadata": {},
   "outputs": [
    {
     "name": "stdout",
     "output_type": "stream",
     "text": [
      "      CRIM    ZN  INDUS  CHAS    NOX     RM   AGE     DIS  RAD    TAX  \\\n",
      "0  0.00632  18.0   2.31   0.0  0.538  6.575  65.2  4.0900  1.0  296.0   \n",
      "1  0.02731   0.0   7.07   0.0  0.469  6.421  78.9  4.9671  2.0  242.0   \n",
      "2  0.02729   0.0   7.07   0.0  0.469  7.185  61.1  4.9671  2.0  242.0   \n",
      "3  0.03237   0.0   2.18   0.0  0.458  6.998  45.8  6.0622  3.0  222.0   \n",
      "4  0.06905   0.0   2.18   0.0  0.458  7.147  54.2  6.0622  3.0  222.0   \n",
      "\n",
      "   PTRATIO       B  LSTAT  MEDV  \n",
      "0     15.3  396.90   4.98  24.0  \n",
      "1     17.8  396.90   9.14  21.6  \n",
      "2     17.8  392.83   4.03  34.7  \n",
      "3     18.7  394.63   2.94  33.4  \n",
      "4     18.7  396.90   5.33  36.2  \n",
      "(506, 14)\n"
     ]
    }
   ],
   "source": [
    "from sklearn import datasets\n",
    "import matplotlib.pyplot as plt\n",
    "iris=datasets.load_boston()\n",
    "x=iris.data\n",
    "y=iris.target\n",
    "import pandas as pd\n",
    "X=pd.DataFrame(x)\n",
    "Y=pd.DataFrame(y)\n",
    "data=pd.concat([X,Y],axis=1)\n",
    "data.columns=['CRIM','ZN','INDUS','CHAS','NOX','RM','AGE','DIS','RAD','TAX','PTRATIO','B','LSTAT','MEDV']\n",
    "print(data.head())\n",
    "print(data.shape)"
   ]
  },
  {
   "cell_type": "code",
   "execution_count": 12,
   "metadata": {},
   "outputs": [],
   "source": [
    "import numpy as np\n",
    "x=data.iloc[:,:-1]\n",
    "y=data[['MEDV']].values\n",
    "from sklearn.model_selection import train_test_split\n",
    "(x_train,x_test,y_train,y_test)=train_test_split(x,y,test_size=0.3,random_state=0)\n",
    "\n",
    "from sklearn.linear_model import Ridge,Lasso,ElasticNet\n",
    "rid=Ridge(alpha=0.1) #cost(ridge)=cost(linear regression)+ l2 Regularization\n",
    "rid.fit(x_train,y_train)\n",
    "y_pred_ridge=rid.predict(x)\n",
    "\n",
    "lasso=Lasso(alpha=0.1) #cost(Lasso)=cost(linear regession) + L1 Regularzation\n",
    "lasso.fit(x_train,y_train)\n",
    "y_pred_lasso=lasso.predict(x)\n",
    "\n",
    "en=ElasticNet(alpha=0.1,l1_ratio=0.5)\n",
    "en.fit(x_train,y_train)\n",
    "y_pred_en=en.predict(x)\n",
    "\n"
   ]
  },
  {
   "cell_type": "code",
   "execution_count": 13,
   "metadata": {},
   "outputs": [],
   "source": [
    "from sklearn.metrics import mean_squared_error,r2_score"
   ]
  },
  {
   "cell_type": "code",
   "execution_count": 14,
   "metadata": {},
   "outputs": [
    {
     "name": "stdout",
     "output_type": "stream",
     "text": [
      "Ridge : MSE=22.158,R2_score=0.738\n",
      "Lasso : MSE=23.314,R2_score=0.724\n",
      "ElasticNet : MSE=23.421,R2_score=0.723\n"
     ]
    }
   ],
   "source": [
    "print('Ridge : MSE=%.3f,R2_score=%.3f'%\n",
    "     (mean_squared_error(y,y_pred_ridge),r2_score(y,y_pred_ridge)))\n",
    "\n",
    "print('Lasso : MSE=%.3f,R2_score=%.3f'%\n",
    "     (mean_squared_error(y,y_pred_lasso),r2_score(y,y_pred_lasso)))\n",
    "\n",
    "print('ElasticNet : MSE=%.3f,R2_score=%.3f'%\n",
    "     (mean_squared_error(y,y_pred_en),r2_score(y,y_pred_en)))"
   ]
  },
  {
   "cell_type": "code",
   "execution_count": null,
   "metadata": {},
   "outputs": [],
   "source": []
  }
 ],
 "metadata": {
  "kernelspec": {
   "display_name": "Python 3",
   "language": "python",
   "name": "python3"
  }
 },
 "nbformat": 4,
 "nbformat_minor": 2
}
